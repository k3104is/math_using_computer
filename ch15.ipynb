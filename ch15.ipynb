{
 "cells": [
  {
   "cell_type": "code",
   "execution_count": 99,
   "metadata": {},
   "outputs": [
    {
     "name": "stdout",
     "output_type": "stream",
     "text": [
      "hello\n"
     ]
    }
   ],
   "source": [
    "print(\"hello\")"
   ]
  },
  {
   "cell_type": "code",
   "execution_count": 100,
   "metadata": {},
   "outputs": [],
   "source": [
    "import matplotlib.pyplot as plt\n",
    "import numpy as np\n",
    "import pandas as pd\n",
    "import seaborn as sns\n",
    "import statsmodels.api as sm\n",
    "import statsmodels.formula.api as smf\n",
    "import sympy as sym\n",
    "from collections import Counter\n",
    "from patsy import dmatrices\n",
    "from scipy import linalg, stats\n",
    "from scipy.integrate import quad\n",
    "from scipy.optimize import minimize\n",
    "from sklearn.linear_model import LinearRegression\n",
    "from statsmodels.stats.proportion import binom_test\n",
    "from statsmodels.stats.weightstats import CompareMeans, DescrStatsW, ttest_ind\n",
    "from sympy import *\n",
    "from sympy. stats import *\n",
    "from sympy.plotting import plot3d"
   ]
  },
  {
   "cell_type": "code",
   "execution_count": 106,
   "metadata": {},
   "outputs": [
    {
     "name": "stdout",
     "output_type": "stream",
     "text": [
      "6\n"
     ]
    },
    {
     "data": {
      "text/latex": [
       "$\\displaystyle \\frac{1}{3}$"
      ],
      "text/plain": [
       "1/3"
      ]
     },
     "execution_count": 106,
     "metadata": {},
     "output_type": "execute_result"
    }
   ],
   "source": [
    "#15.12\n",
    "f = lambda x, y: x**2 + y**2; var('u v')\n",
    "# x, y = u, v\n",
    "x, y = 2 * u, 3 * v\n",
    "J = Matrix([x, y]).jacobian((u, v))\n",
    "detJ = J.det(); print(detJ)\n",
    "integrate(integrate(f(x, y) * abs(detJ),\n",
    "                    (v, 0, 2*u/3)), (u, 0, sym.S(1)/2))"
   ]
  }
 ],
 "metadata": {
  "kernelspec": {
   "display_name": "Python 3 (ipykernel)",
   "language": "python",
   "name": "python3"
  },
  "language_info": {
   "codemirror_mode": {
    "name": "ipython",
    "version": 3
   },
   "file_extension": ".py",
   "mimetype": "text/x-python",
   "name": "python",
   "nbconvert_exporter": "python",
   "pygments_lexer": "ipython3",
   "version": "3.11.6"
  }
 },
 "nbformat": 4,
 "nbformat_minor": 2
}
